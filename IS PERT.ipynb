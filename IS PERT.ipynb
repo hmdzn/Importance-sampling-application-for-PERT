{
 "cells": [
  {
   "cell_type": "markdown",
   "metadata": {},
   "source": [
    "# Importance sampling application for PERT"
   ]
  },
  {
   "cell_type": "markdown",
   "metadata": {},
   "source": [
    "**Author :** Hamada ZEINE "
   ]
  },
  {
   "cell_type": "code",
   "execution_count": 5,
   "metadata": {},
   "outputs": [],
   "source": [
    "import os\n",
    "import numpy as np\n",
    "import pandas as pd\n",
    "from math import exp, log, sqrt, pi\n",
    "from scipy.stats import norm\n",
    "import matplotlib.pyplot as plt\n",
    "\n",
    "\n",
    "# Duration for evry task, with initialisation from the paper\n",
    "Duration=[4,4,2,5,2,3,2,3,2,2]"
   ]
  },
  {
   "cell_type": "markdown",
   "metadata": {},
   "source": [
    "** Simulate the Ti varriables **"
   ]
  },
  {
   "cell_type": "code",
   "execution_count": 192,
   "metadata": {},
   "outputs": [],
   "source": [
    "n=10000\n",
    "T=np.ones((n,10))\n",
    "for i in range(10):\n",
    "    T[:,i]=Duration[i]*np.random.exponential(scale=1, size=n)"
   ]
  },
  {
   "cell_type": "code",
   "execution_count": 193,
   "metadata": {},
   "outputs": [
    {
     "data": {
      "text/plain": [
       "array([6.04834795, 0.67658959, 0.75153698, 6.52122756, 0.18982181,\n",
       "       1.48264063, 0.67420544, 5.78116677, 0.46740116, 6.8136386 ])"
      ]
     },
     "execution_count": 193,
     "metadata": {},
     "output_type": "execute_result"
    }
   ],
   "source": [
    "T[500,:]"
   ]
  },
  {
   "cell_type": "markdown",
   "metadata": {},
   "source": [
    "** Simulation with lamda = 4 **"
   ]
  },
  {
   "cell_type": "code",
   "execution_count": 194,
   "metadata": {},
   "outputs": [],
   "source": [
    "# lambdas\n",
    "lamda=np.zeros(10)\n",
    "for i in range(10):\n",
    "    lamda[i]=4*Duration[i]"
   ]
  },
  {
   "cell_type": "code",
   "execution_count": 195,
   "metadata": {},
   "outputs": [
    {
     "data": {
      "text/plain": [
       "array([16., 16.,  8., 20.,  8., 12.,  8., 12.,  8.,  8.])"
      ]
     },
     "execution_count": 195,
     "metadata": {},
     "output_type": "execute_result"
    }
   ],
   "source": [
    "lamda"
   ]
  },
  {
   "cell_type": "code",
   "execution_count": 196,
   "metadata": {},
   "outputs": [],
   "source": [
    "for i in range(10):\n",
    "    T[:,i]=lamda[i]*np.random.exponential(scale=1, size=n)"
   ]
  },
  {
   "cell_type": "code",
   "execution_count": 197,
   "metadata": {},
   "outputs": [],
   "source": [
    "def S_function(T):\n",
    "    S1=T[0]\n",
    "    S2=T[0]\n",
    "    S3=S1+T[1]\n",
    "    S4=S1+T[1]\n",
    "    S5=S2+T[2]\n",
    "    S6=S2+T[2]\n",
    "    S7=S2+T[2]\n",
    "    S8=max(S4+T[4],max(S5+T[5],S6+T[6]))\n",
    "    S9=max(S3+T[3],max(S7+T[7],S8+T[8]))\n",
    "    \n",
    "    return S9"
   ]
  },
  {
   "cell_type": "code",
   "execution_count": 198,
   "metadata": {},
   "outputs": [
    {
     "data": {
      "text/plain": [
       "9.082369705515465"
      ]
     },
     "execution_count": 198,
     "metadata": {},
     "output_type": "execute_result"
    }
   ],
   "source": [
    "E10=np.zeros(n)\n",
    "for i in range(n):\n",
    "    E10[i]=T[i,9]+S_function(T[i,:])\n",
    "prod_terms=np.ones((n,10))\n",
    "for i in range(n):\n",
    "    for j in range(10):\n",
    "        prod_terms[i,j]=(exp(-T[i,j]/Duration[j])/Duration[j])/(exp(-T[i,j]/lamda[j])/lamda[j])\n",
    "n_terms=np.zeros(n)\n",
    "for i in range(n):\n",
    "    n_terms[i]=(E10[i]>70)*np.prod(prod_terms[i,:])\n",
    "mu=(1/n)*sum(n_terms)\n",
    "mu*(10**5)"
   ]
  },
  {
   "cell_type": "markdown",
   "metadata": {},
   "source": [
    "* Ne"
   ]
  },
  {
   "cell_type": "code",
   "execution_count": 199,
   "metadata": {},
   "outputs": [
    {
     "data": {
      "text/plain": [
       "24.806477322604092"
      ]
     },
     "execution_count": 199,
     "metadata": {},
     "output_type": "execute_result"
    }
   ],
   "source": [
    "w=np.zeros(n)\n",
    "for i in range(n):\n",
    "    w[i]=np.prod(prod_terms[i,:])\n",
    "Ne=sum(w)**2/sum(w**2)\n",
    "Ne"
   ]
  },
  {
   "cell_type": "markdown",
   "metadata": {},
   "source": [
    "* effective sample size for variance estimates"
   ]
  },
  {
   "cell_type": "code",
   "execution_count": 200,
   "metadata": {},
   "outputs": [
    {
     "data": {
      "text/plain": [
       "6.474045819714493"
      ]
     },
     "execution_count": 200,
     "metadata": {},
     "output_type": "execute_result"
    }
   ],
   "source": [
    "Nsigma=sum(w**2)**2/sum(w**4)\n",
    "Nsigma"
   ]
  },
  {
   "cell_type": "code",
   "execution_count": null,
   "metadata": {},
   "outputs": [],
   "source": [
    "Ny=sum(w**2)**3/sum(w**3)**2\n",
    "Ny"
   ]
  },
  {
   "cell_type": "markdown",
   "metadata": {},
   "source": [
    "* standard error"
   ]
  },
  {
   "cell_type": "code",
   "execution_count": 201,
   "metadata": {},
   "outputs": [
    {
     "data": {
      "text/plain": [
       "13.018220539662961"
      ]
     },
     "execution_count": 201,
     "metadata": {},
     "output_type": "execute_result"
    }
   ],
   "source": [
    "std=(1/n)*sum(w*(E10-mu))\n",
    "std"
   ]
  },
  {
   "cell_type": "markdown",
   "metadata": {},
   "source": [
    "** Maintenant on simule avec différentes valeurs de k avec lamda=k*theta **"
   ]
  },
  {
   "cell_type": "code",
   "execution_count": 202,
   "metadata": {},
   "outputs": [],
   "source": [
    "k=[3.0, 3.5, 4.0, 4.5, 5.0]"
   ]
  },
  {
   "cell_type": "markdown",
   "metadata": {},
   "source": [
    "** k = 3.0 **"
   ]
  },
  {
   "cell_type": "code",
   "execution_count": 203,
   "metadata": {},
   "outputs": [
    {
     "data": {
      "text/plain": [
       "3.9490872026971657"
      ]
     },
     "execution_count": 203,
     "metadata": {},
     "output_type": "execute_result"
    }
   ],
   "source": [
    "# lambdas\n",
    "lamda=np.zeros(10)\n",
    "for i in range(10):\n",
    "    lamda[i]=k[0]*Duration[i]\n",
    "for i in range(10):\n",
    "    T[:,i]=lamda[i]*np.random.exponential(scale=1, size=n)\n",
    "E10=np.zeros(n)\n",
    "for i in range(n):\n",
    "    E10[i]=T[i,9]+S_function(T[i,:])\n",
    "prod_terms=np.ones((n,10))\n",
    "for i in range(n):\n",
    "    for j in range(10):\n",
    "        prod_terms[i,j]=(exp(-T[i,j]/Duration[j])/Duration[j])/(exp(-T[i,j]/lamda[j])/lamda[j])\n",
    "n_terms=np.zeros(n)\n",
    "for i in range(n):\n",
    "    n_terms[i]=(E10[i]>70)*np.prod(prod_terms[i,:])\n",
    "mu1=(1/n)*sum(n_terms)\n",
    "mu1*(10**5)"
   ]
  },
  {
   "cell_type": "markdown",
   "metadata": {},
   "source": [
    "* Ne"
   ]
  },
  {
   "cell_type": "code",
   "execution_count": 204,
   "metadata": {},
   "outputs": [
    {
     "data": {
      "text/plain": [
       "33.94181712563213"
      ]
     },
     "execution_count": 204,
     "metadata": {},
     "output_type": "execute_result"
    }
   ],
   "source": [
    "w=np.zeros(n)\n",
    "for i in range(n):\n",
    "    w[i]=np.prod(prod_terms[i,:])\n",
    "Ne=sum(w)**2/sum(w**2)\n",
    "Ne"
   ]
  },
  {
   "cell_type": "code",
   "execution_count": 205,
   "metadata": {},
   "outputs": [
    {
     "data": {
      "text/plain": [
       "5.656612718930042"
      ]
     },
     "execution_count": 205,
     "metadata": {},
     "output_type": "execute_result"
    }
   ],
   "source": [
    "Nsigma=sum(w**2)**2/sum(w**4)\n",
    "Nsigma"
   ]
  },
  {
   "cell_type": "code",
   "execution_count": null,
   "metadata": {},
   "outputs": [],
   "source": [
    "Ny=sum(w**2)**3/sum(w**3)**2\n",
    "Ny"
   ]
  },
  {
   "cell_type": "markdown",
   "metadata": {},
   "source": [
    "* standard error"
   ]
  },
  {
   "cell_type": "code",
   "execution_count": 206,
   "metadata": {},
   "outputs": [
    {
     "data": {
      "text/plain": [
       "20.34204450504163"
      ]
     },
     "execution_count": 206,
     "metadata": {},
     "output_type": "execute_result"
    }
   ],
   "source": [
    "std=(1/n)*sum(w*(E10-mu1))\n",
    "std"
   ]
  },
  {
   "cell_type": "markdown",
   "metadata": {},
   "source": [
    "** k = 3.5 **"
   ]
  },
  {
   "cell_type": "code",
   "execution_count": 207,
   "metadata": {},
   "outputs": [
    {
     "data": {
      "text/plain": [
       "4.195244564123893"
      ]
     },
     "execution_count": 207,
     "metadata": {},
     "output_type": "execute_result"
    }
   ],
   "source": [
    "# lambdas\n",
    "lamda=np.zeros(10)\n",
    "for i in range(10):\n",
    "    lamda[i]=k[1]*Duration[i]\n",
    "for i in range(10):\n",
    "    T[:,i]=lamda[i]*np.random.exponential(scale=1, size=n)\n",
    "E10=np.zeros(n)\n",
    "for i in range(n):\n",
    "    E10[i]=T[i,9]+S_function(T[i,:])\n",
    "prod_terms=np.ones((n,10))\n",
    "for i in range(n):\n",
    "    for j in range(10):\n",
    "        prod_terms[i,j]=(exp(-T[i,j]/Duration[j])/Duration[j])/(exp(-T[i,j]/lamda[j])/lamda[j])\n",
    "n_terms=np.zeros(n)\n",
    "for i in range(n):\n",
    "    n_terms[i]=(E10[i]>70)*np.prod(prod_terms[i,:])\n",
    "mu2=(1/n)*sum(n_terms)\n",
    "mu2*(10**5)"
   ]
  },
  {
   "cell_type": "markdown",
   "metadata": {},
   "source": [
    "* Ne"
   ]
  },
  {
   "cell_type": "code",
   "execution_count": 208,
   "metadata": {},
   "outputs": [
    {
     "data": {
      "text/plain": [
       "15.53847927072144"
      ]
     },
     "execution_count": 208,
     "metadata": {},
     "output_type": "execute_result"
    }
   ],
   "source": [
    "w=np.zeros(n)\n",
    "for i in range(n):\n",
    "    w[i]=np.prod(prod_terms[i,:])\n",
    "Ne=sum(w)**2/sum(w**2)\n",
    "Ne"
   ]
  },
  {
   "cell_type": "code",
   "execution_count": 209,
   "metadata": {},
   "outputs": [
    {
     "data": {
      "text/plain": [
       "3.4131717306764293"
      ]
     },
     "execution_count": 209,
     "metadata": {},
     "output_type": "execute_result"
    }
   ],
   "source": [
    "Nsigma=sum(w**2)**2/sum(w**4)\n",
    "Nsigma"
   ]
  },
  {
   "cell_type": "code",
   "execution_count": null,
   "metadata": {},
   "outputs": [],
   "source": [
    "Ny=sum(w**2)**3/sum(w**3)**2\n",
    "Ny"
   ]
  },
  {
   "cell_type": "markdown",
   "metadata": {},
   "source": [
    "* standard error"
   ]
  },
  {
   "cell_type": "code",
   "execution_count": 210,
   "metadata": {},
   "outputs": [
    {
     "data": {
      "text/plain": [
       "20.06279906885493"
      ]
     },
     "execution_count": 210,
     "metadata": {},
     "output_type": "execute_result"
    }
   ],
   "source": [
    "std=(1/n)*sum(w*(E10-mu2))\n",
    "std"
   ]
  },
  {
   "cell_type": "markdown",
   "metadata": {},
   "source": [
    "** k = 4.5 **"
   ]
  },
  {
   "cell_type": "code",
   "execution_count": 211,
   "metadata": {},
   "outputs": [
    {
     "data": {
      "text/plain": [
       "1.5681829560620495"
      ]
     },
     "execution_count": 211,
     "metadata": {},
     "output_type": "execute_result"
    }
   ],
   "source": [
    "# lambdas\n",
    "lamda=np.zeros(10)\n",
    "for i in range(10):\n",
    "    lamda[i]=k[3]*Duration[i]\n",
    "for i in range(10):\n",
    "    T[:,i]=lamda[i]*np.random.exponential(scale=1, size=n)\n",
    "E10=np.zeros(n)\n",
    "for i in range(n):\n",
    "    E10[i]=T[i,9]+S_function(T[i,:])\n",
    "prod_terms=np.ones((n,10))\n",
    "for i in range(n):\n",
    "    for j in range(10):\n",
    "        prod_terms[i,j]=(exp(-T[i,j]/Duration[j])/Duration[j])/(exp(-T[i,j]/lamda[j])/lamda[j])\n",
    "n_terms=np.zeros(n)\n",
    "for i in range(n):\n",
    "    n_terms[i]=(E10[i]>70)*np.prod(prod_terms[i,:])\n",
    "mu3=(1/n)*sum(n_terms)\n",
    "mu3*(10**5)"
   ]
  },
  {
   "cell_type": "markdown",
   "metadata": {},
   "source": [
    "* Ne"
   ]
  },
  {
   "cell_type": "code",
   "execution_count": 212,
   "metadata": {},
   "outputs": [
    {
     "data": {
      "text/plain": [
       "13.89127754260842"
      ]
     },
     "execution_count": 212,
     "metadata": {},
     "output_type": "execute_result"
    }
   ],
   "source": [
    "w=np.zeros(n)\n",
    "for i in range(n):\n",
    "    w[i]=np.prod(prod_terms[i,:])\n",
    "Ne=sum(w)**2/sum(w**2)\n",
    "Ne"
   ]
  },
  {
   "cell_type": "code",
   "execution_count": 213,
   "metadata": {},
   "outputs": [
    {
     "data": {
      "text/plain": [
       "3.7343115124886523"
      ]
     },
     "execution_count": 213,
     "metadata": {},
     "output_type": "execute_result"
    }
   ],
   "source": [
    "Nsigma=sum(w**2)**2/sum(w**4)\n",
    "Nsigma"
   ]
  },
  {
   "cell_type": "code",
   "execution_count": null,
   "metadata": {},
   "outputs": [],
   "source": [
    "Ny=sum(w**2)**3/sum(w**3)**2\n",
    "Ny"
   ]
  },
  {
   "cell_type": "markdown",
   "metadata": {},
   "source": [
    "* standard error"
   ]
  },
  {
   "cell_type": "code",
   "execution_count": null,
   "metadata": {},
   "outputs": [],
   "source": [
    "std=(1/n)*sum(w*(E10-mu3))\n",
    "std"
   ]
  },
  {
   "cell_type": "markdown",
   "metadata": {},
   "source": [
    "** k = 5 **"
   ]
  },
  {
   "cell_type": "code",
   "execution_count": 214,
   "metadata": {},
   "outputs": [
    {
     "data": {
      "text/plain": [
       "1.1538844605931995"
      ]
     },
     "execution_count": 214,
     "metadata": {},
     "output_type": "execute_result"
    }
   ],
   "source": [
    "# lambdas\n",
    "lamda=np.zeros(10)\n",
    "for i in range(10):\n",
    "    lamda[i]=k[4]*Duration[i]\n",
    "T=np.ones((n,10))\n",
    "for i in range(10):\n",
    "    T[:,i]=lamda[i]*np.random.exponential(scale=1, size=n)\n",
    "E10=np.zeros(n)\n",
    "for i in range(n):\n",
    "    E10[i]=T[i,9]+S_function(T[i,:])\n",
    "prod_terms=np.ones((n,10))\n",
    "for i in range(n):\n",
    "    for j in range(10):\n",
    "        prod_terms[i,j]=(exp(-T[i,j]/Duration[j])/Duration[j])/(exp(-T[i,j]/lamda[j])/lamda[j])\n",
    "n_terms=np.zeros(n)\n",
    "for i in range(n):\n",
    "    n_terms[i]=(E10[i]>70)*np.prod(prod_terms[i,:])\n",
    "mu4=(1/n)*sum(n_terms)\n",
    "mu4*(10**5)"
   ]
  },
  {
   "cell_type": "markdown",
   "metadata": {},
   "source": [
    "* Ne"
   ]
  },
  {
   "cell_type": "code",
   "execution_count": 215,
   "metadata": {},
   "outputs": [
    {
     "data": {
      "text/plain": [
       "2.9980968410250513"
      ]
     },
     "execution_count": 215,
     "metadata": {},
     "output_type": "execute_result"
    }
   ],
   "source": [
    "w=np.zeros(n)\n",
    "for i in range(n):\n",
    "    w[i]=np.prod(prod_terms[i,:])\n",
    "Ne=sum(w)**2/sum(w**2)\n",
    "Ne"
   ]
  },
  {
   "cell_type": "code",
   "execution_count": 216,
   "metadata": {},
   "outputs": [
    {
     "data": {
      "text/plain": [
       "1.4195757430788951"
      ]
     },
     "execution_count": 216,
     "metadata": {},
     "output_type": "execute_result"
    }
   ],
   "source": [
    "Nsigma=sum(w**2)**2/sum(w**4)\n",
    "Nsigma"
   ]
  },
  {
   "cell_type": "code",
   "execution_count": null,
   "metadata": {},
   "outputs": [],
   "source": [
    "Ny=sum(w**2)**3/sum(w**3)**2\n",
    "Ny"
   ]
  },
  {
   "cell_type": "markdown",
   "metadata": {},
   "source": [
    "* standard error"
   ]
  },
  {
   "cell_type": "code",
   "execution_count": null,
   "metadata": {},
   "outputs": [],
   "source": [
    "std=(1/n)*sum(w*(E10-mu4))\n",
    "std"
   ]
  },
  {
   "cell_type": "markdown",
   "metadata": {},
   "source": [
    "** Using κ = 4 and n = 200,000 **"
   ]
  },
  {
   "cell_type": "code",
   "execution_count": 217,
   "metadata": {},
   "outputs": [
    {
     "data": {
      "text/plain": [
       "3.0737694486460323"
      ]
     },
     "execution_count": 217,
     "metadata": {},
     "output_type": "execute_result"
    }
   ],
   "source": [
    "n=200000\n",
    "lamda=np.zeros(10)\n",
    "for i in range(10):\n",
    "    lamda[i]=4*Duration[i]\n",
    "T=np.ones((n,10))\n",
    "for i in range(10):\n",
    "    T[:,i]=lamda[i]*np.random.exponential(scale=1, size=n)\n",
    "E10=np.zeros(n)\n",
    "for i in range(n):\n",
    "    E10[i]=T[i,9]+S_function(T[i,:])\n",
    "prod_terms=np.ones((n,10))\n",
    "for i in range(n):\n",
    "    for j in range(10):\n",
    "        prod_terms[i,j]=(exp(-T[i,j]/Duration[j])/Duration[j])/(exp(-T[i,j]/lamda[j])/lamda[j])\n",
    "n_terms=np.zeros(n)\n",
    "for i in range(n):\n",
    "    n_terms[i]=(E10[i]>70)*np.prod(prod_terms[i,:])\n",
    "mu5=(1/n)*sum(n_terms)\n",
    "mu5*(10**5)"
   ]
  },
  {
   "cell_type": "markdown",
   "metadata": {},
   "source": [
    "* Ne"
   ]
  },
  {
   "cell_type": "code",
   "execution_count": 218,
   "metadata": {},
   "outputs": [
    {
     "data": {
      "text/plain": [
       "9.881021608192007"
      ]
     },
     "execution_count": 218,
     "metadata": {},
     "output_type": "execute_result"
    }
   ],
   "source": [
    "w=np.zeros(n)\n",
    "for i in range(n):\n",
    "    w[i]=np.prod(prod_terms[i,:])\n",
    "Ne=sum(w)**2/sum(w**2)\n",
    "Ne"
   ]
  },
  {
   "cell_type": "code",
   "execution_count": 219,
   "metadata": {},
   "outputs": [
    {
     "data": {
      "text/plain": [
       "1.0719581409677388"
      ]
     },
     "execution_count": 219,
     "metadata": {},
     "output_type": "execute_result"
    }
   ],
   "source": [
    "Nsigma=sum(w**2)**2/sum(w**4)\n",
    "Nsigma"
   ]
  },
  {
   "cell_type": "code",
   "execution_count": 220,
   "metadata": {},
   "outputs": [
    {
     "data": {
      "text/plain": [
       "1.106440940886687"
      ]
     },
     "execution_count": 220,
     "metadata": {},
     "output_type": "execute_result"
    }
   ],
   "source": [
    "Ny=sum(w**2)**3/sum(w**3)**2\n",
    "Ny"
   ]
  },
  {
   "cell_type": "markdown",
   "metadata": {},
   "source": [
    "* standard error"
   ]
  },
  {
   "cell_type": "code",
   "execution_count": 188,
   "metadata": {},
   "outputs": [
    {
     "data": {
      "text/plain": [
       "17.430066523238033"
      ]
     },
     "execution_count": 188,
     "metadata": {},
     "output_type": "execute_result"
    }
   ],
   "source": [
    "std=(1/n)*sum(w*(E10-mu5))\n",
    "std"
   ]
  },
  {
   "cell_type": "markdown",
   "metadata": {},
   "source": [
    "* variance reduction due to importance sampling "
   ]
  },
  {
   "cell_type": "code",
   "execution_count": 221,
   "metadata": {},
   "outputs": [
    {
     "data": {
      "text/plain": [
       "7.660370415157295e-12"
      ]
     },
     "execution_count": 221,
     "metadata": {},
     "output_type": "execute_result"
    }
   ],
   "source": [
    "mu5/(n*std)"
   ]
  }
 ],
 "metadata": {
  "kernelspec": {
   "display_name": "Python 3",
   "language": "python",
   "name": "python3"
  },
  "language_info": {
   "codemirror_mode": {
    "name": "ipython",
    "version": 3
   },
   "file_extension": ".py",
   "mimetype": "text/x-python",
   "name": "python",
   "nbconvert_exporter": "python",
   "pygments_lexer": "ipython3",
   "version": "3.6.5"
  }
 },
 "nbformat": 4,
 "nbformat_minor": 2
}
